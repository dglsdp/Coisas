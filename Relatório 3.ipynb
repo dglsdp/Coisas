{
 "cells": [
  {
   "cell_type": "markdown",
   "metadata": {},
   "source": [
    "### UTFPR - UNIVERSIDADE TECNOLÓGICA FEDERAL DO PARANÁ\n",
    "### DAELT - DEPARTAMENTO ACADÊMICO DE ELETROTÉCNICA\n",
    "\n",
    "**Disciplina**: ET7GF - Sinais e Sistemas 2\n",
    "\n",
    "**Professor**: Glauber Brante\n",
    "\n",
    "**Aluno**: Douglas Dangui Pedroso\n",
    "\n",
    "---"
   ]
  },
  {
   "cell_type": "markdown",
   "metadata": {
    "slideshow": {
     "slide_type": "-"
    }
   },
   "source": [
    "## Atividade de Simulação 03: Convolução em Tempo Discreto\n",
    "\n",
    "---"
   ]
  },
  {
   "cell_type": "markdown",
   "metadata": {},
   "source": [
    "Neste laboratório, você irá estudar os conceitos da convolução em tempo discreto. Lembre-se\n",
    "que a convolução de $x[n]$ e $h[n]$ é definida como:\n",
    "\n",
    "\\begin{equation}\n",
    "\\large\n",
    "    y[n] =\n",
    "    \\sum_{k=-\\infty}^\\infty x[k]h[n-k], \\qquad \\infty < n < \\infty \\\\\n",
    "\\end{equation}\n",
    "\n",
    "Se os sinais são não-nulos apenas em intervalos finitos, isto é:\n",
    "\n",
    "\\begin{equation}\n",
    "\\large    x[k] = 0, \\qquad K_1 \\le k \\le K_2, \\\\\n",
    "\\end{equation}\n",
    "\n",
    "e\n",
    "\n",
    "\\begin{equation}\n",
    "\\large    h[n] = 0, \\qquad N_1 \\le k \\le N_2, \\\\\n",
    "\\end{equation}\n",
    "\n",
    "então a soma de convolução pode ser escrita como:\n",
    "\n",
    "\\begin{equation}\n",
    "\\large\n",
    "    y[n] =\n",
    "    \\sum_{k={K_1}}^{K_2} x[k]h[n-k], \\qquad N_1 + K_1 \\le n \\le N_2 + K_2, \\\\\n",
    "\\end{equation}\n",
    "\n",
    "e a saída $y[n]$ será diferente de zero apenas em um intervalo de $N_2 − N_1 + K_2 − K_1 + 1$ amostras.\n",
    "\n",
    "A função _convolve_ em Python pode ser utilizada para convoluir dois sinais. Entretanto, todo o contexto para os índices de tempo sobre os quais $x[n]$, $h[n]$ e $y[n]$ não são levados em consideração.\n",
    "\n",
    "**1)** Escreva uma função própria chamada _Convoluir_ para fazer a convolução de dois sinais. Sua função deve utilizar a função convolve como base, mas também deve retornar os índices sobre os quais as funções são definidas.\n",
    "\n",
    "Como entradas, sua função irá receber $x$, $nx$, $h$ e $nh$. Por exemplo, $x$ é o sinal de entrada do sistema e $nx$ representa o eixo de tempo sobre o qual x está definido. De forma similar, o par $h$ e $nh$ define a resposta ao impulso desse sistema.\n",
    "\n",
    "Como saída, sua função deve retornar $y$ e $ny$, seguindo a mesma lógica."
   ]
  },
  {
   "cell_type": "code",
   "execution_count": 3,
   "metadata": {},
   "outputs": [],
   "source": [
    "from numpy import *\n",
    "from matplotlib.pyplot import *\n",
    "\n",
    "def impulso(n):\n",
    "    d = 1*(n==0)\n",
    "    return d\n",
    "\n",
    "def degrau(n):\n",
    "    d = 1*(n>=0)\n",
    "    return d\n",
    "\n",
    "def retangulo(n,N):\n",
    "    d = 1*(n>=-N) - 1*(n>N)\n",
    "    return d\n",
    "\n",
    "def energia_potencia(x,i,f):\n",
    "    e = sum(x*x)\n",
    "    p = e/(f-i+1)\n",
    "    return e,p\n",
    "\n",
    "#  Função para atraso ou adiantamento de sinais com variável independente invertida ou não\n",
    "def meudeslocamento(x,nx,n0,invertido):\n",
    "    \n",
    "    if invertido == 'sim':\n",
    "        if n0 >= 0:       \n",
    "          ny = arange(nx[0]-abs(n0),nx[size(nx)-1]+1)\n",
    "        else:\n",
    "          ny = arange(nx[0],nx[size(nx)-1]+abs(n0)+1)                       \n",
    "        if n0 >= 0:\n",
    "            y = append(zeros(abs(n0)),x)\n",
    "        else:\n",
    "            y = append(x,zeros(abs(n0)))\n",
    "    else:\n",
    "        if n0 >= 0:       \n",
    "          ny = arange(nx[0]-abs(n0),nx[size(nx)-1]+1)\n",
    "        else:\n",
    "          ny = arange(nx[0],nx[size(nx)-1]+abs(n0)+1) \n",
    "                          \n",
    "        if n0 >= 0:\n",
    "          y = append(x,zeros(abs(n0))) \n",
    "        else:\n",
    "          y = append(zeros(abs(n0)),x)             \n",
    "    return ny,y\n",
    "\n",
    "def plot_entrada_saida(nx,x,ny,y):\n",
    "    clf()\n",
    "    subplot(2,1,1)\n",
    "    stem(nx, x)\n",
    "    grid(True)\n",
    "    xlabel('n', fontsize=18)\n",
    "    ylabel('Entrada x[n]', fontsize=18)\n",
    "     \n",
    "    subplot(2,1,2)\n",
    "    stem(ny, y)\n",
    "    grid(True)\n",
    "    xlabel('n', fontsize=18)\n",
    "    ylabel('Saída y[n]', fontsize=18)\n",
    "    \n",
    "def MM(nx,x,ordem,coef):\n",
    "    nx = nx\n",
    "    x = x\n",
    "    ordem = ordem\n",
    "    y = coef[0]*x\n",
    "    for i in range(1,ordem+1):\n",
    "        [ny,yd] = meudeslocamento(x,nx,-i,'não')\n",
    "        y = append(y,0) + coef[i]*yd\n",
    "        \n",
    "    return ny,y\n",
    "\n",
    "def uniform_midtread_quantizer(x,n):\n",
    "    x = copy(x)\n",
    "    n = copy(n)\n",
    "    m = size(x,axis=0)\n",
    "    Q = (1-(-1))/(2**n)\n",
    "    for i in range(0,m):\n",
    "        if x[i] >= (1-Q):\n",
    "            x[i] = 1\n",
    "        elif x[i] <= -1:\n",
    "            x[i] = -1\n",
    "    indice = (x*1/Q+1/2)\n",
    "    xq = Q*floor(indice)\n",
    "    return xq\n",
    "\n",
    "def uniform_midrise_quantizer(x,n):\n",
    "    x = copy(x)\n",
    "    n = copy(n)\n",
    "    m = size(x,axis=0)\n",
    "    Q = (1-(-1))/(2**n)\n",
    "    for i in range(0,m):\n",
    "        if x[i] >= (1-Q):\n",
    "            x[i] = 1\n",
    "        elif x[i] <= -1:\n",
    "            x[i] = -1\n",
    "    indice = x*1/Q\n",
    "    xq = Q*(floor(indice)+1/2)\n",
    "    return xq\n",
    "\n",
    "def convoluir(nx,x,nh,h):\n",
    "    K1 = min(nx)\n",
    "    N1 = min(nh)\n",
    "    K2 = K1+size(x)-1\n",
    "    N2 = N1+size(h)-1\n",
    "    N = N2 - N1\n",
    "    K = K2 - K1\n",
    "    Y = N + K + 1\n",
    "    y = zeros(Y)\n",
    "    [nhi,hi] = ist(nh,h)\n",
    "    nhi = nhi + K1 + N1\n",
    "    ny = arange(K1+N1,K2+N2+1)\n",
    "    xm = append(zeros(N),x)\n",
    "    hmi = append(hi,zeros(K))\n",
    "    y[0] = sum(xm*hmi)\n",
    "    for n in range(1,Y):\n",
    "        [nhm,hm] = meudeslocamento(hmi,nhi,n,'sim')  \n",
    "        if n <= K:\n",
    "            hm = hm[0:int(-n)]\n",
    "        else:\n",
    "            hm = hm[0:int(-n)] \n",
    "        y[n] = sum(xm*hm)\n",
    "    return ny,y\n",
    "\n",
    "def plotconvoluir(nx,x,nh,h,ny,y):\n",
    "    clf()    \n",
    "    stem(nx,x,linefmt='-.''r')\n",
    "    show()\n",
    "    grid\n",
    "    stem(nh,h,'k')\n",
    "    show()\n",
    "    stem(ny,y,linefmt =':''b')\n",
    "    axis([min(min(nh),min(nx),min(nh))-1,max(max(nh),max(nx),max(ny))+1,min(min(h),min(x),min(y))-1,max(max(h),max(x),max(y))+1])\n",
    "    xlabel('n',fontsize=18)\n",
    "    ylabel('f[n]',fontsize=18)\n",
    "    title('x[n] Vermelho, h[n] Preto, y[n] Azul',fontsize=18)\n",
    "\n",
    "def compconv(nx,x,nh,h,ny,y):\n",
    "    clf()\n",
    "    stem(ny,y,linefmt ='--''r')  \n",
    "    show()\n",
    "    a = convolve(x,h)\n",
    "    n = arange(min(nh)+min(nx),max(nh)+max(nx)+1)\n",
    "    stem(n,a,linefmt ='-.''k')\n",
    "    \n",
    "    axis([min(min(nh),min(nx),min(ny))-1, \\\n",
    "    max(max(nh),max(nx),max(ny))+1,min(min(h),min(x),min(y))-1, \\\n",
    "    max(max(h),max(x),max(y))+1])\n",
    "    \n",
    "    xlabel('n',fontsize=18)\n",
    "    ylabel('y[n]',fontsize=18)\n",
    "    title('Comparação entre meu algoritmo de convolução em vermelho com o do Python em preto',fontsize=12)\n",
    "    \n",
    "def ist(n,x):\n",
    "    n = -n\n",
    "    n = n[::-1]\n",
    "    x = x[::-1]\n",
    "    return n,x"
   ]
  },
  {
   "cell_type": "markdown",
   "metadata": {},
   "source": [
    "**2)** Utilize a sua função para convoluir os seguintes sinais:\n",
    "\n",
    "\\begin{equation}\n",
    "\\large    x[n] = u[n] - u[n-6], \\qquad -10 \\le n \\le 10, \\\\\n",
    "\\end{equation}\n",
    "\n",
    "e\n",
    "\n",
    "\\begin{equation}\n",
    "\\large    h[n] = (0.4)^nu[n], \\qquad 0 \\le n \\le 10. \\\\\n",
    "\\end{equation}\n",
    "\n",
    "Obtenha analiticamente aquação para o resultado e compare com a simulação.\n"
   ]
  },
  {
   "cell_type": "markdown",
   "metadata": {},
   "source": [
    "Pelo Wolfram Alpha, o resultado da Convolução entre $x[n]$ e $h[n]$, $y[n]$ é:\n",
    "\n",
    "\\begin{equation}\n",
    " y[n] = 5187*2^{n-5}*5^{-n}*(1-u[4-n]) + \\frac{1031}{625}u[4-n]u[n-4] + \\\\ \\frac{203}{125}u[3-n]u[n-3] + \\frac{39}{25}u[2-n]u[n-2] + \\frac{7}{5}u[1-n]u[n-1] + u[-n] \\\\\n",
    "\\end{equation}\n"
   ]
  },
  {
   "cell_type": "code",
   "execution_count": 5,
   "metadata": {},
   "outputs": [
    {
     "data": {
      "text/plain": [
       "[-11, 21, -1, 2.65984]"
      ]
     },
     "execution_count": 5,
     "metadata": {},
     "output_type": "execute_result"
    },
    {
     "data": {
      "image/png": "[encoded data removed]",
      "text/plain": [
       "<Figure size 432x288 with 1 Axes>"
      ]
     },
     "metadata": {},
     "output_type": "display_data"
    }
   ],
   "source": [
    "nx = arange(-10,11)\n",
    "x = degrau(nx)-degrau(nx-6)\n",
    "nh = arange(0,11)\n",
    "h = 0.4**nh*degrau(nh)\n",
    "[ny,y] = convoluir(nx,x,nh,h)\n",
    "clf()\n",
    "stem(ny,y)\n",
    "ylabel('y[n]',fontsize=18)\n",
    "xlabel('n',fontsize=18)\n",
    "title('Resultado da convolução entre x[n] e h[n]',fontsize = 18)\n",
    "axis([min(min(nh),min(nx),min(nh))-1,max(max(nh),max(nx),max(ny))+1, \\\n",
    "      min(min(h),min(x),min(y))-1,max(max(h),max(x),max(y))+1])"
   ]
  },
  {
   "cell_type": "markdown",
   "metadata": {},
   "source": [
    "**3)** Utilize a sua função para convoluir os seguintes sinais:\n",
    "\n",
    "\\begin{equation}\n",
    "\\large\n",
    "x[n] = \n",
    "\\begin{cases}\n",
    "\\frac{1}{4}, \\qquad n = 0 \\\\\n",
    "\\frac{1}{4}\\frac{sen(\\frac{\\pi{n}}{4})}{\\frac{\\pi{n}}{4}}, \\qquad n \\neq 0 \\\\ = \\frac{1}{4}sinc(\\frac{n}{4}), \\qquad -20 \\le n \\le 20, \\\\\n",
    "\\end{cases}\n",
    "\\end{equation}\n",
    "\n",
    "e\n",
    "\n",
    "\\begin{equation}\n",
    "\\large\n",
    "h[n] = x[n], \\qquad -20 \\le n \\le 20. \\\\\n",
    "\\end{equation}\n",
    "\n",
    "Plote $x[n]$ e o resultado da convolução $y[n]$ sobre o intervalo $−20 \\le n \\le 20$ e se certifiqueque os limites do eixo-x são os mesmos para ambos $x[n]$ e $y[n]$.\n",
    "\n",
    "Você acha o resultado surpreendente? Por que isso acontece?\n"
   ]
  },
  {
   "cell_type": "code",
   "execution_count": 12,
   "metadata": {},
   "outputs": [
    {
     "data": {
      "text/plain": [
       "[-10, 10, -0.5, 0.5]"
      ]
     },
     "execution_count": 12,
     "metadata": {},
     "output_type": "execute_result"
    },
    {
     "data": {
      "image/png": "[encoded data removed]",
      "text/plain": [
       "<Figure size 432x288 with 1 Axes>"
      ]
     },
     "metadata": {},
     "output_type": "display_data"
    }
   ],
   "source": [
    "nx = arange(-20,21)\n",
    "x = sinc(nx/4)/4\n",
    "h = x\n",
    "nh = nx\n",
    "\n",
    "[ny,y] = convoluir(nx,x,nh,h)\n",
    "clf()\n",
    "stem(nx,x,linefmt ='--''b')\n",
    "stem(ny,y,linefmt ='-.''r')\n",
    "axis([-20,20,-1,1])\n",
    "ylabel('y[n]',fontsize=18)\n",
    "xlabel('n',fontsize=18)\n",
    "title('Plot do resultado da convolução y[n] em vermelho, \\\n",
    "e x[n] em azul',fontsize = 14)\n",
    "axis([-10,10,-0.5,0.5])"
   ]
  },
  {
   "cell_type": "markdown",
   "metadata": {},
   "source": [
    "O resultado é esperado pois a Convolução de dois sinais $sinc$ no tempo é a multiplicação de dois sinais retangulares no domínio da frequência, assim, a multiplicação dos dois sinais retangulares resulta em um outro sinal retangular $y[n]$ que no domínio do tempo é igual aos sinais $x[n]$ e $h[n]$"
   ]
  },
  {
   "cell_type": "markdown",
   "metadata": {},
   "source": [
    "**4)** Sistema de Média Móvel de Primeira-Ordem.\n",
    "\n",
    "Na Atividade de Simulação passada você considerou um sistema com a seguinte relação entrada-saída:\n",
    "\n",
    "\\begin{equation}\n",
    "\\large\n",
    "y[n] = a_0x[n] + a_1x[n-1]\n",
    "\\end{equation}\n",
    "\n",
    "Obtenha analiticamente a resposta ao impulso para esse sistema.\n",
    "\n",
    "**Resposta:**\n",
    "\n",
    "\\begin{equation}\n",
    "\\large\n",
    "h[n] = a_0\\delta[n] + a_1\\delta[n-1]\n",
    "\\end{equation}\n",
    "\n",
    "A seguir, considere a entrada:\n",
    "\n",
    "\\begin{equation}\n",
    "\\large\n",
    "x[n] = 5retangulo_{20}[n]sin(\\frac{\\pi}{12}{n}), \\qquad -30 \\le n \\le 30\n",
    "\\end{equation}\n",
    "\n",
    "e usa sua função Convoluir para obter a saída do sistema com os seguintes conjuntos de parâmetros e compare estes resultados com aqueles obtidos na atividade de simulação anterior.\n",
    "\n",
    "**(a)** $a_0 = 1$ e $a_1 = -1$:"
   ]
  },
  {
   "cell_type": "code",
   "execution_count": 14,
   "metadata": {},
   "outputs": [
    {
     "data": {
      "text/plain": [
       "Text(0.5,1,'Comparação entre o resultado da Média Móvel em vermelho com o resultado da Convolução em azul')"
      ]
     },
     "execution_count": 14,
     "metadata": {},
     "output_type": "execute_result"
    },
    {
     "data": {
      "image/png": "[encoded data removed]",
      "text/plain": [
       "<Figure size 432x288 with 1 Axes>"
      ]
     },
     "metadata": {},
     "output_type": "display_data"
    }
   ],
   "source": [
    "a0 = 1\n",
    "a1 = -1\n",
    "coef = [a0,a1]\n",
    "ordem = 1\n",
    "nh = arange(0,2)\n",
    "h = a0*impulso(nh) + a1*impulso(nh-1)\n",
    "nx = arange(-30,31)\n",
    "xsin = sin(pi*nx/12)\n",
    "xret = 5*retangulo(nx,20)\n",
    "x = xsin*xret\n",
    "\n",
    "[ny1,y1] = MM(nx,x,ordem,coef) \n",
    "[ny,y] = convoluir(nx,x,nh,h) \n",
    "clf()\n",
    "stem(ny,y,linefmt ='-.''b')\n",
    "stem(ny1,y1,linefmt ='--''r')\n",
    "axis([min(min(nh),min(nx),min(nh))-1,max(max(nh),max(nx),max(ny))+1, \\\n",
    "      min(min(h),min(x),min(y))-1,max(max(h),max(x),max(y))+1])\n",
    "ylabel('y[n]',fontsize=18)\n",
    "xlabel('n',fontsize=18)\n",
    "title('Comparação entre o resultado da Média Móvel em vermelho \\\n",
    "com o resultado da Convolução em azul',fontsize = 10)"
   ]
  },
  {
   "cell_type": "markdown",
   "metadata": {},
   "source": [
    "**(b)** $a_0 = a_1 = \\frac{1}{2}$"
   ]
  },
  {
   "cell_type": "code",
   "execution_count": 15,
   "metadata": {},
   "outputs": [
    {
     "data": {
      "text/plain": [
       "Text(0.5,1,'Comparação entre o resultado da Média Móvel em vermelho com o resultado da Convolução em azul')"
      ]
     },
     "execution_count": 15,
     "metadata": {},
     "output_type": "execute_result"
    },
    {
     "data": {
      "image/png": "[encoded data removed]",
      "text/plain": [
       "<Figure size 432x288 with 1 Axes>"
      ]
     },
     "metadata": {},
     "output_type": "display_data"
    }
   ],
   "source": [
    "a0 = 1/2\n",
    "a1 = 1/2\n",
    "coef = [a0,a1]\n",
    "ordem = 1\n",
    "nh = arange(0,2)\n",
    "h = a0*impulso(nh) + a1*impulso(nh-1)\n",
    "nx = arange(-30,31)\n",
    "xsin = sin(pi*nx/12)\n",
    "xret = 5*retangulo(nx,20)\n",
    "x = xsin*xret\n",
    "\n",
    "[ny1,y1] = MM(nx,x,ordem,coef) \n",
    "[ny,y] = convoluir(nx,x,nh,h) \n",
    "clf()\n",
    "stem(ny,y,linefmt ='-.''b')\n",
    "stem(ny1,y1,linefmt ='--''r')\n",
    "axis([min(min(nh),min(nx),min(nh))-1,max(max(nh),max(nx),max(ny))+1, \\\n",
    "      min(min(h),min(x),min(y))-1,max(max(h),max(x),max(y))+1])\n",
    "ylabel('y[n]',fontsize=18)\n",
    "xlabel('n',fontsize=18)\n",
    "title('Comparação entre o resultado da Média Móvel em vermelho \\\n",
    "com o resultado da Convolução em azul',fontsize = 10)"
   ]
  },
  {
   "cell_type": "markdown",
   "metadata": {},
   "source": [
    "**4)** Conexão em Cascata de Sistemas LTI.\n",
    "\n",
    "Considere dois sistemas LTI com as seguintes respostas ao impulso:\n",
    "\n",
    "\\begin{equation}\n",
    "\\large\n",
    "h_1[n] = (0.8)^nu[n], \n",
    "\\end{equation}\n",
    "\n",
    "e\n",
    "\n",
    "\\begin{equation}\n",
    "\\large\n",
    "h_2[n] = \\delta[n] - 0.8\\delta[n-1], \n",
    "\\end{equation}\n",
    "\n",
    "**(a)** Use a sua função Convoluir para obter a saída do sistema 1 quando a entrada é:\n",
    "\n",
    "\\begin{equation}\n",
    "\\large\n",
    "x[n] = retangulo_{5}[n]. \n",
    "\\end{equation}\n",
    "\n",
    "Ao criar as sequências de entrada e de resposta ao impulso, use bom senso para definir os índices apropriados sobre os quais as sequências serão definidas. Ou seja, você precisa definir $nx$ e $nh$."
   ]
  },
  {
   "cell_type": "code",
   "execution_count": 17,
   "metadata": {},
   "outputs": [
    {
     "data": {
      "text/plain": [
       "[-16, 16, -1.0, 5.570503270400001]"
      ]
     },
     "execution_count": 17,
     "metadata": {},
     "output_type": "execute_result"
    },
    {
     "data": {
      "image/png": "[encoded data removed]",
      "text/plain": [
       "<Figure size 432x288 with 1 Axes>"
      ]
     },
     "metadata": {},
     "output_type": "display_data"
    }
   ],
   "source": [
    "nh = arange(-10,11)\n",
    "h = 0.8**nh*degrau(nh)\n",
    "nx = arange(-5,6)\n",
    "x = retangulo(nx,5)\n",
    "\n",
    "[ny,y] = convoluir(nx,x,nh,h)\n",
    "\n",
    "clf()\n",
    "stem(ny,y)\n",
    "ylabel('y1[n]',fontsize=18)\n",
    "xlabel('n',fontsize=18)\n",
    "title('Resultado da Convolução entre x[n] e h1[n]',fontsize = 18)\n",
    "axis([min(min(nh),min(nx),min(ny))-1, \\\n",
    "    max(max(nh),max(nx),max(ny))+1,min(min(h),min(x),min(y))-1, \\\n",
    "    max(max(h),max(x),max(y))+1])"
   ]
  },
  {
   "cell_type": "markdown",
   "metadata": {},
   "source": [
    "**(b)** Use a sua função Convoluir para obter a saída do sistema 2 quando sua entrada é a saída do sistema 1, cuja entrada foi descrita acima."
   ]
  },
  {
   "cell_type": "code",
   "execution_count": 18,
   "metadata": {},
   "outputs": [
    {
     "data": {
      "text/plain": [
       "[-16, 17, -1.0858993459200001, 2.0000000000000004]"
      ]
     },
     "execution_count": 18,
     "metadata": {},
     "output_type": "execute_result"
    },
    {
     "data": {
      "image/png": "[encoded data removed]",
      "text/plain": [
       "<Figure size 432x288 with 1 Axes>"
      ]
     },
     "metadata": {},
     "output_type": "display_data"
    }
   ],
   "source": [
    "nh1 = arange(-10,11)\n",
    "h1 = 0.8**nh1*degrau(nh1)\n",
    "nh2 = arange(0,2)\n",
    "h2 = impulso(nh2) - 0.8*impulso(nh2-1)\n",
    "nx = arange(-5,6)\n",
    "x = retangulo(nx,5)\n",
    "\n",
    "[ny,y] = convoluir(nx,x,nh1,h1)\n",
    "nx = ny\n",
    "x = y\n",
    "[ny,y] = convoluir(nx,x,nh2,h2)\n",
    "\n",
    "clf()\n",
    "stem(ny,y)\n",
    "ylabel('y2[n]',fontsize=18)\n",
    "xlabel('n',fontsize=18)\n",
    "title('Resultado da Convolução entre y1[n] e h2[n]',fontsize = 18)\n",
    "axis([min(min(nh2),min(nx),min(ny))-1, \\\n",
    "max(max(nh2),max(nx),max(ny))+1,min(min(h1),min(x),min(y))-1, \\\n",
    "max(max(h1),max(y))+1])"
   ]
  },
  {
   "cell_type": "markdown",
   "metadata": {},
   "source": [
    "**(c)** Use a sua função Convoluir para obter a resposta ao impulso total para uma conexão em cascata dos sistemas 1 e 2. Este resultado é consistente com relação aos resultados anteriores? Comente sobre este resultado e sobre a relação entre os sistemas 1 e 2."
   ]
  },
  {
   "cell_type": "code",
   "execution_count": 22,
   "metadata": {},
   "outputs": [
    {
     "data": {
      "text/plain": [
       "[-6, 6, 0, 2]"
      ]
     },
     "execution_count": 22,
     "metadata": {},
     "output_type": "execute_result"
    },
    {
     "data": {
      "image/png": "[encoded data removed]",
      "text/plain": [
       "<Figure size 432x288 with 1 Axes>"
      ]
     },
     "metadata": {},
     "output_type": "display_data"
    }
   ],
   "source": [
    "nh1 = arange(-10,11)\n",
    "h1 = 0.8**nh1*degrau(nh1)\n",
    "nh2 = arange(0,2)\n",
    "h2 = impulso(nh2) - 0.8*impulso(nh2-1)\n",
    "nx = arange(-5,6)\n",
    "x = retangulo(nx,5)\n",
    "\n",
    "[nh,h] = convoluir(nh2,h2,nh1,h1)\n",
    "[ny,y] = convoluir(nh,h,nx,x)\n",
    "\n",
    "clf()\n",
    "stem(nx,x,linefmt ='-.''b')\n",
    "stem(ny,y,linefmt ='--''r')\n",
    "axis([min(min(nh),min(nx),min(ny))-1, \\\n",
    "max(max(nh),max(nx),max(ny))+1,min(min(h),min(x),min(y))-1, \\\n",
    "max(max(h),max(x),max(y))+1])\n",
    "ylabel('y2[n]',fontsize=12)\n",
    "xlabel('n',fontsize=12)\n",
    "title('Comparação entre o resultado da Convolução y[n] \\\n",
    "do sistema em cascata, em azul, com a entrada x[n], em vermelho', \\\n",
    "fontsize=9)\n",
    "axis([-6,6,0,2])"
   ]
  },
  {
   "cell_type": "markdown",
   "metadata": {},
   "source": [
    "Nota-se que a saída do sistema em cascata é igual à entrada do sistema em cascata, o que indica que sistema 1 é o inverso do sistema 2, ou vice-versa."
   ]
  }
 ],
 "metadata": {
  "kernelspec": {
   "display_name": "Python 3",
   "language": "python",
   "name": "python3"
  },
  "language_info": {
   "codemirror_mode": {
    "name": "ipython",
    "version": 3
   },
   "file_extension": ".py",
   "mimetype": "text/x-python",
   "name": "python",
   "nbconvert_exporter": "python",
   "pygments_lexer": "ipython3",
   "version": "3.6.5"
  }
 },
 "nbformat": 4,
 "nbformat_minor": 2
}

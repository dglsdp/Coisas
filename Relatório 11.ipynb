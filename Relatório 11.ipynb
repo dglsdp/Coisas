{
 "cells": [
  {
   "cell_type": "markdown",
   "metadata": {},
   "source": [
    "### UTFPR - UNIVERSIDADE TECNOLÓGICA FEDERAL DO PARANÁ\n",
    "### DAELT - DEPARTAMENTO ACADÊMICO DE ELETROTÉCNICA\n",
    "\n",
    "**Disciplina**: ET7GF - Sinais e Sistemas 2\n",
    "\n",
    "**Professor**: Glauber Brante\n",
    "\n",
    "**Aluno**: Douglas Dangui Pedroso\n",
    "\n",
    "---"
   ]
  },
  {
   "cell_type": "markdown",
   "metadata": {
    "slideshow": {
     "slide_type": "-"
    }
   },
   "source": [
    "## Atividade de Simulação 11:\n",
    "**Projeto de Filtros: Efeitos em Áudio** \n",
    "\n",
    "---"
   ]
  },
  {
   "cell_type": "markdown",
   "metadata": {},
   "source": [
    "### Funções: ###"
   ]
  },
  {
   "cell_type": "code",
   "execution_count": 5,
   "metadata": {},
   "outputs": [],
   "source": [
    "from numpy import *\n",
    "from matplotlib.pyplot import *\n",
    "from scipy.signal import *\n",
    "from pyaudio import *\n",
    "from scipy.io.wavfile import *\n",
    "\n",
    "def impulso(n):\n",
    "    d = 1*(n==0)\n",
    "    return d\n",
    "\n",
    "def degrau(n):\n",
    "    d = 1*(n>=0)\n",
    "    return d\n",
    "\n",
    "def retangulo(n,N):\n",
    "    d = 1*(n>=-N) - 1*(n>N)\n",
    "    return d\n",
    "\n",
    "def energia_potencia(x,i,f):\n",
    "    e = sum(x*x)\n",
    "    p = e/(f-i+1)\n",
    "    return e,p\n",
    "\n",
    "#  Função para atraso ou adiantamento de sinais com variável\n",
    "#  independente invertida ou não\n",
    "def meudeslocamento(x,nx,n0,invertido):\n",
    "    \n",
    "    if invertido == 'sim':\n",
    "        if n0 >= 0:       \n",
    "          ny = arange(nx[0]-abs(n0),nx[size(nx)-1]+1)\n",
    "        else:\n",
    "          ny = arange(nx[0],nx[size(nx)-1]+abs(n0)+1)                       \n",
    "        if n0 >= 0:\n",
    "            y = append(zeros(abs(n0)),x)\n",
    "        else:\n",
    "            y = append(x,zeros(abs(n0)))\n",
    "    else:\n",
    "        if n0 >= 0:       \n",
    "          ny = arange(nx[0]-abs(n0),nx[size(nx)-1]+1)\n",
    "        else:\n",
    "          ny = arange(nx[0],nx[size(nx)-1]+abs(n0)+1) \n",
    "                          \n",
    "        if n0 >= 0:\n",
    "          y = append(x,zeros(abs(n0))) \n",
    "        else:\n",
    "          y = append(zeros(abs(n0)),x)             \n",
    "    return ny,y\n",
    "\n",
    "def plot_entrada_saida(nx,x,ny,y):\n",
    "    clf()\n",
    "    subplot(2,1,1)\n",
    "    stem(nx, x)\n",
    "    grid(True)\n",
    "    xlabel('n', fontsize=18)\n",
    "    ylabel('Entrada x[n]', fontsize=18)\n",
    "     \n",
    "    subplot(2,1,2)\n",
    "    stem(ny, y)\n",
    "    grid(True)\n",
    "    xlabel('n', fontsize=18)\n",
    "    ylabel('Saída y[n]', fontsize=18)\n",
    "    \n",
    "def MM(nx,x,ordem,coef):\n",
    "    nx = nx\n",
    "    x = x\n",
    "    ordem = ordem\n",
    "    y = coef[0]*x\n",
    "    for i in range(1,ordem+1):\n",
    "        [ny,yd] = meudeslocamento(x,nx,-i,'não')\n",
    "        y = append(y,0) + coef[i]*yd\n",
    "        \n",
    "    return ny,y\n",
    "\n",
    "def uniform_midtread_quantizer(x,n):\n",
    "    x = copy(x)\n",
    "    n = copy(n)\n",
    "    m = size(x,axis=0)\n",
    "    Q = (1-(-1))/(2**n)\n",
    "    for i in range(0,m):\n",
    "        if x[i] >= (1-Q):\n",
    "            x[i] = 1\n",
    "        elif x[i] <= -1:\n",
    "            x[i] = -1\n",
    "    indice = (x*1/Q+1/2)\n",
    "    xq = Q*floor(indice)\n",
    "    return xq\n",
    "\n",
    "def uniform_midrise_quantizer(x,n):\n",
    "    x = copy(x)\n",
    "    n = copy(n)\n",
    "    m = size(x,axis=0)\n",
    "    Q = (1-(-1))/(2**n)\n",
    "    for i in range(0,m):\n",
    "        if x[i] >= (1-Q):\n",
    "            x[i] = 1\n",
    "        elif x[i] <= -1:\n",
    "            x[i] = -1\n",
    "    indice = x*1/Q\n",
    "    xq = Q*(floor(indice)+1/2)\n",
    "    return xq\n",
    "\n",
    "def convoluir(nx,x,nh,h):\n",
    "    K1 = min(nx)\n",
    "    N1 = min(nh)\n",
    "    K2 = K1+size(x)-1\n",
    "    N2 = N1+size(h)-1\n",
    "    N = N2 - N1\n",
    "    K = K2 - K1\n",
    "    Y = N + K + 1\n",
    "    y = zeros(Y)\n",
    "    [nhi,hi] = ist(nh,h)\n",
    "    nhi = nhi + K1 + N1\n",
    "    ny = arange(K1+N1,K2+N2+1)\n",
    "    xm = append(zeros(N),x)\n",
    "    hmi = append(hi,zeros(K))\n",
    "    y[0] = sum(xm*hmi)\n",
    "    for n in range(1,Y):\n",
    "        [nhm,hm] = meudeslocamento(hmi,nhi,n,'sim')  \n",
    "        if n <= K:\n",
    "            hm = hm[0:int(-n)]\n",
    "        else:\n",
    "            hm = hm[0:int(-n)] \n",
    "        y[n] = sum(xm*hm)\n",
    "    return ny,y\n",
    "\n",
    "def plotconvoluir(nx,x,nh,h,ny,y):\n",
    "    clf()    \n",
    "    stem(nx,x,linefmt='-.''r')\n",
    "    show()\n",
    "    grid\n",
    "    stem(nh,h,'k')\n",
    "    show()\n",
    "    stem(ny,y,linefmt =':''b')\n",
    "    axis([min(min(nh),min(nx),min(nh))-1,max(max(nh),max(nx), \\\n",
    "    max(ny))+1,min(min(h),min(x),min(y))-1,max(max(h),max(x),max(y))+1])\n",
    "    xlabel('n',fontsize=18)\n",
    "    ylabel('f[n]',fontsize=18)\n",
    "    title('x[n] Vermelho, h[n] Preto, y[n] Azul',fontsize=18)\n",
    "\n",
    "def compconv(nx,x,nh,h,ny,y):\n",
    "    clf()\n",
    "    stem(ny,y,linefmt ='--''r')  \n",
    "    show()\n",
    "    a = convolve(x,h)\n",
    "    n = arange(min(nh)+min(nx),max(nh)+max(nx)+1)\n",
    "    stem(n,a,linefmt ='-.''k')\n",
    "    \n",
    "    axis([min(min(nh),min(nx),min(ny))-1, \\\n",
    "    max(max(nh),max(nx),max(ny))+1,min(min(h),min(x),min(y))-1, \\\n",
    "    max(max(h),max(x),max(y))+1])\n",
    "    \n",
    "    xlabel('n',fontsize=18)\n",
    "    ylabel('y[n]',fontsize=18)\n",
    "    title('Comparação entre meu algoritmo de convolução em \\\n",
    "    vermelho com o do Python em preto',fontsize=12)\n",
    "    \n",
    "def ist(n,x):\n",
    "    n = -n\n",
    "    n = n[::-1]\n",
    "    x = x[::-1]\n",
    "    return n,x\n",
    "\n",
    "def sound(x, fs):\n",
    "    x = float32(x/amax(abs(x)))\n",
    "    p = PyAudio()\n",
    "    stream = p.open(format=paFloat32, channels=1, rate=fs, output=True)\n",
    "    stream.write(x, num_frames=size(x))\n",
    "    \n",
    "    stream.stop_stream()\n",
    "    stream.close()\n",
    "    p.terminate()\n",
    "    return\n",
    "\n",
    "def leitor_audio_mono(a):\n",
    "    fs, x = read(a)\n",
    "    x = float32(x)\n",
    "    x = float32((x[:,0] + x[:,1])/2) # Transforma Stereo em Mono\n",
    "    sound(x,fs)\n",
    "    \n",
    "def eco(atraso,b0,musica):\n",
    "    fs, x = read(musica)\n",
    "    D = int(atraso*fs)\n",
    "    x = float32(x)\n",
    "    x = float32((x[:,0] + x[:,1])/2)\n",
    "    y = lfilter(append(1,append(zeros(D-1),b0)),1.0,x)\n",
    "    sound(y,fs)\n",
    "    \n",
    "def reverberar(atraso,a1,musica):\n",
    "    fs, x = read(musica)\n",
    "    D = int(atraso*fs)\n",
    "    x = float32(x)\n",
    "    x = float32((x[:,0] + x[:,1])/2)\n",
    "    y = lfilter(append(1,zeros(D)),append(1,append(zeros(D-1),-a1)),x)\n",
    "    sound(y,fs)\n",
    "\n",
    "def eco_reverberar(atraso,b0,a1,musica):\n",
    "    fs, x = read(musica)\n",
    "    D = int(atraso*fs)\n",
    "    a = append(2,append(zeros(D-1),-a1))\n",
    "    b = append(2,append(zeros(D-1),b0))\n",
    "    x = float32(x)\n",
    "    x = float32((x[:,0] + x[:,1])/2)\n",
    "    y = lfilter(b,a,x)\n",
    "    sound(y,fs)\n",
    "    \n",
    "def filtroflangesin(musica,atraso,f,b0):\n",
    "    fs, x = read(musica)\n",
    "    x = float32(x)  \n",
    "    N = size(x)\n",
    "    n = arange(0,N)    \n",
    "    D = int(atraso*fs)\n",
    "    d = D*abs(sin(2*pi*n*f/fs))    \n",
    "    x1 = append(x,zeros(D))\n",
    "    y = zeros(N)    \n",
    "    for i in range(0,N):\n",
    "        y[i] = x[i] + x1[int(i - d[i])]    \n",
    "    sound(y,fs)    \n",
    "    return y,fs\n",
    "\n",
    "def filtroflangedenteserra(musica,atraso,f,b0):\n",
    "    fs, x = read(musica)\n",
    "    x = float32(x)  \n",
    "    N = size(x)\n",
    "    n = arange(0,N)    \n",
    "    D = int(atraso*fs)\n",
    "    d = D*abs(sawtooth(n,(f/fs)))    \n",
    "    x1 = append(x,zeros(D))\n",
    "    y = zeros(N)    \n",
    "    for i in range(0,N):\n",
    "        y[i] = x[i] + x1[int(i - d[i])]    \n",
    "    sound(y,fs)    \n",
    "    return y,fs   "
   ]
  },
  {
   "cell_type": "markdown",
   "metadata": {},
   "source": [
    "### EXERCÍCIO 1: Efeito de Eco (ou Delay)"
   ]
  },
  {
   "cell_type": "markdown",
   "metadata": {},
   "source": [
    "O efeito de eco acontece quando um sinal de áudio é refletido em alguma parede ou obstáculo, retornando com um certo atraso e atenuação. Matematicamente, podemos representar esse efeito como sendo:\n",
    "\n",
    "\\begin{equation}\n",
    "\\large\n",
    "    y[n] = x[n] + b_0x[n-D],\n",
    "\\end{equation}\n",
    "\n",
    "em que b0 representa a atenuação recebida pelo sinal de eco e D o atraso entre o sinal original e seu retorno. A Figura 1 ilustra o diagrama em blocos desse efeito."
   ]
  },
  {
   "cell_type": "markdown",
   "metadata": {},
   "source": [
    "<center>![Figura 1: Filtro de Eco (delay).](fig1.png \"ola\")</center>"
   ]
  },
  {
   "cell_type": "markdown",
   "metadata": {},
   "source": [
    "**a)** Implemente o efeito de eco utilizando a função lfilter do Python.\n",
    "\n",
    "**b)** Utilize o audio1.wav como entrada $(x[n])$ e gere a saída $y[n]$ considerando um atraso de $330 ms$ e ganho $b0 = 0.8.$"
   ]
  },
  {
   "cell_type": "markdown",
   "metadata": {},
   "source": [
    "**Música original:**"
   ]
  },
  {
   "cell_type": "code",
   "execution_count": 7,
   "metadata": {},
   "outputs": [],
   "source": [
    "musica = 'musica.wav'\n",
    "leitor_audio_mono(musica)"
   ]
  },
  {
   "cell_type": "markdown",
   "metadata": {},
   "source": [
    "**Música alterada:**"
   ]
  },
  {
   "cell_type": "code",
   "execution_count": 8,
   "metadata": {},
   "outputs": [],
   "source": [
    "atraso = 0.330\n",
    "b0 = 0.8\n",
    "musica = 'musica.wav'\n",
    "\n",
    "eco(atraso,b0,musica)"
   ]
  },
  {
   "cell_type": "markdown",
   "metadata": {},
   "source": [
    "### EXERCÍCIO 2: Efeito de Reverberação (Reverb) ###\n",
    "\n",
    "O efeito de reverberação é semelhante ao eco, porém múltiplas reflexões do sinal são combinadas\n",
    "no ponto de destino. A Figura 2 (à esquerda) ilustra este efeito. Do ponto de vista matemático, podemos representar esse efeito como sendo:\n",
    "\n",
    "<center>![Figura 2: Filtro de Reverb.](fig2.png \"ola\")</center>\n",
    "\n",
    "\\begin{equation}\n",
    "\\large\n",
    "    y[n] = a_1y[n-D] + x[n],\n",
    "\\end{equation}\n",
    "\n",
    "em que $a_1$ representa a atenuação recebida pelas múltiplas reflexões. A Figura 2 (à direita) ilustra\n",
    "o diagrama em blocos desse efeito."
   ]
  },
  {
   "cell_type": "markdown",
   "metadata": {},
   "source": [
    "$a)$ Implemente o efeito de reverb utilizando a função lfilter do Python.\n",
    "\n",
    "$b)$ Utilize o audio1.wav como entrada $(x[n])$ e gere a saída $y[n]$ considerando um atraso de $330 ms$ e ganho $a1 = 0.8.$\n",
    "\n",
    "**Música original:**"
   ]
  },
  {
   "cell_type": "code",
   "execution_count": 10,
   "metadata": {},
   "outputs": [],
   "source": [
    "musica = 'audio1.wav'\n",
    "leitor_audio_mono(musica)"
   ]
  },
  {
   "cell_type": "markdown",
   "metadata": {},
   "source": [
    "**Música alterada:**"
   ]
  },
  {
   "cell_type": "code",
   "execution_count": 12,
   "metadata": {},
   "outputs": [],
   "source": [
    "atraso = 0.330\n",
    "a1 = 0.8\n",
    "musica = 'audio1.wav'\n",
    " \n",
    "reverberar(atraso,a1,musica)"
   ]
  },
  {
   "cell_type": "markdown",
   "metadata": {},
   "source": [
    "**c)** Qual a diferença entre este efeito e o Eco do Exercício 1?\n",
    "\n",
    "**Resposta:**\n",
    "\n",
    "É possível perceber que no efeito de eco, as reflexões no som chegam ao emissor do som, enquanto no efeito de reverberar, os sons captados pelo recepetor é um resultado do som do emissor somado às suas reflexões\n",
    "\n",
    "\n",
    "Experimente também suas funções de\n",
    "eco e reverb utilizando o audio2.wav considerando um atraso de $300 ms$ e ganhos $b0 = a1 = 0.8$ para ajudar a tirar conclusões.\n",
    "\n",
    "**Música original:**"
   ]
  },
  {
   "cell_type": "code",
   "execution_count": 13,
   "metadata": {},
   "outputs": [],
   "source": [
    "musica = 'audio2.wav'\n",
    "\n",
    "leitor_audio_mono(musica)"
   ]
  },
  {
   "cell_type": "markdown",
   "metadata": {},
   "source": [
    "**Música alterada:**"
   ]
  },
  {
   "cell_type": "code",
   "execution_count": 14,
   "metadata": {},
   "outputs": [],
   "source": [
    "musica = 'audio2.wav'\n",
    "atraso = 0.300\n",
    "b0 = 0.8\n",
    "a1 = 0.8\n",
    "\n",
    "eco(atraso,b0,musica)\n",
    "reverberar(atraso,a1,musica)"
   ]
  },
  {
   "cell_type": "markdown",
   "metadata": {},
   "source": [
    "**d)** Para criação de efeitos sonoros intencionais (e.g., em edição de áudio), Delay e Reverb podem\n",
    "ser combinados para formar um efeito de maior preenchimento. Combine os efeitos de Delay e\n",
    "Reverb em um único filtro IIR utilizando o audio2.wav como entrada considerando um atraso\n",
    "de $300 ms$ e ganhos $b0 = 0.8 e a1 = 0.5.$"
   ]
  },
  {
   "cell_type": "code",
   "execution_count": 15,
   "metadata": {},
   "outputs": [],
   "source": [
    "musica = 'audio2.wav'\n",
    "atraso = 0.300\n",
    "b0 = 0.8\n",
    "a1 = 0.5\n",
    "\n",
    "eco_reverberar(atraso,b0,a1,musica)"
   ]
  },
  {
   "cell_type": "markdown",
   "metadata": {},
   "source": [
    "### EXERCÍCIO 3: Efeito Flanger###\n",
    "\n",
    "O efeito flanger é um filtro de Eco, porém com atraso variável no tempo. Seu diagrama em\n",
    "blocos está ilustrado pela Figura 3."
   ]
  },
  {
   "cell_type": "markdown",
   "metadata": {},
   "source": [
    "<center>![Figura 3: Filtro Flanger.](fig3.png \"ola\")</center>"
   ]
  },
  {
   "cell_type": "markdown",
   "metadata": {},
   "source": [
    "A equação diferenças desses filtro é dada por:\n",
    "\n",
    "\\begin{equation}\n",
    "\\large\n",
    "    y[n] = x[n] + b_0x[n-d(n)],\n",
    "\\end{equation}\n",
    "\n",
    "Em que $d(n)$ é a função do atraso que varia com o tempo $n$. Comumente, $d(n)$ é uma função\n",
    "senoidal ou dente de serra. Na sua forma senoidal, podemos escrevê-la como:\n",
    "\n",
    "\\begin{equation}\n",
    "\\large\n",
    "    d(n) = D\\left|\\sin(\\frac{2\\pi{n}f}{f_s})\\right|,\n",
    "\\end{equation}\n",
    "\n",
    "em que $D$ é o atraso máximo, $f$ deve ser uma frequência de oscilação bastante baixa (de até $1 Hz$) e $fs$ é a frequência de amostragem. Note que, dessa forma, o atraso $0 \\le d \\le D$ varia de maneira senoidal no tempo.\n",
    "\n",
    "**a)** Implemente o efeito de flanger utilizando o Python. Utilize o audio3.wav como entrada $(x[n])$\n",
    "e gere a saída $y[n]$ considerando um atraso máximo de $5 ms$, frequência $f = 0.4 Hz$ e ganho\n",
    "$b0 = 0.8.$\n",
    "\n",
    "**Áudio original:**\n"
   ]
  },
  {
   "cell_type": "code",
   "execution_count": 16,
   "metadata": {},
   "outputs": [],
   "source": [
    "fs, x = read('audio3.wav')\n",
    "x = float32(x)\n",
    "sound(x,fs)"
   ]
  },
  {
   "cell_type": "markdown",
   "metadata": {},
   "source": [
    "**Áudio alterado:**"
   ]
  },
  {
   "cell_type": "code",
   "execution_count": 17,
   "metadata": {},
   "outputs": [
    {
     "data": {
      "text/plain": [
       "(array([14., 17., 26., ..., -2., 10., -5.]), 96000)"
      ]
     },
     "execution_count": 17,
     "metadata": {},
     "output_type": "execute_result"
    }
   ],
   "source": [
    "musica = 'audio3.wav'\n",
    "atraso = 0.005\n",
    "f = 0.4\n",
    "b0 = 0.8\n",
    "\n",
    "filtroflangesin(musica,atraso,f,b0)"
   ]
  },
  {
   "cell_type": "markdown",
   "metadata": {},
   "source": [
    "**b)** Experimente trocar o atraso senoidal por uma função dente de serra e observe as diferenças.\n",
    "\n",
    "**Obs.: Utilize a função sawtooth.**"
   ]
  },
  {
   "cell_type": "code",
   "execution_count": 18,
   "metadata": {},
   "outputs": [
    {
     "data": {
      "text/plain": [
       "(array([ 7., 10., 16., ..., -2., -4., 13.]), 96000)"
      ]
     },
     "execution_count": 18,
     "metadata": {},
     "output_type": "execute_result"
    }
   ],
   "source": [
    "musica = 'audio3.wav'\n",
    "atraso = 0.005\n",
    "f = 0.4\n",
    "b0 = 0.8\n",
    "\n",
    "filtroflangedenteserra(musica,atraso,f,b0)"
   ]
  }
 ],
 "metadata": {
  "kernelspec": {
   "display_name": "Python 3",
   "language": "python",
   "name": "python3"
  },
  "language_info": {
   "codemirror_mode": {
    "name": "ipython",
    "version": 3
   },
   "file_extension": ".py",
   "mimetype": "text/x-python",
   "name": "python",
   "nbconvert_exporter": "python",
   "pygments_lexer": "ipython3",
   "version": "3.6.5"
  }
 },
 "nbformat": 4,
 "nbformat_minor": 2
}
